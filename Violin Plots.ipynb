{
 "cells": [
  {
   "cell_type": "code",
   "execution_count": 21,
   "metadata": {
    "collapsed": true
   },
   "outputs": [],
   "source": [
    "import numpy as np\n",
    "import pandas as pd\n",
    "import seaborn as sns\n",
    "import matplotlib.pyplot as plt"
   ]
  },
  {
   "cell_type": "code",
   "execution_count": 28,
   "metadata": {
    "collapsed": false
   },
   "outputs": [
    {
     "data": {
      "text/html": [
       "<div>\n",
       "<table border=\"1\" class=\"dataframe\">\n",
       "  <thead>\n",
       "    <tr style=\"text-align: right;\">\n",
       "      <th></th>\n",
       "      <th>Recipient</th>\n",
       "      <th>Report Year</th>\n",
       "      <th>3yrAverage Money</th>\n",
       "      <th>Average of emigration over all OECD countries</th>\n",
       "      <th>Continent</th>\n",
       "    </tr>\n",
       "  </thead>\n",
       "  <tbody>\n",
       "    <tr>\n",
       "      <th>0</th>\n",
       "      <td>Afghanistan</td>\n",
       "      <td>2000</td>\n",
       "      <td>9.515139</td>\n",
       "      <td>0.000824</td>\n",
       "      <td>ASIA</td>\n",
       "    </tr>\n",
       "    <tr>\n",
       "      <th>1</th>\n",
       "      <td>Afghanistan</td>\n",
       "      <td>2001</td>\n",
       "      <td>7.586477</td>\n",
       "      <td>0.000947</td>\n",
       "      <td>ASIA</td>\n",
       "    </tr>\n",
       "    <tr>\n",
       "      <th>2</th>\n",
       "      <td>Afghanistan</td>\n",
       "      <td>2002</td>\n",
       "      <td>11.206747</td>\n",
       "      <td>0.000689</td>\n",
       "      <td>ASIA</td>\n",
       "    </tr>\n",
       "    <tr>\n",
       "      <th>3</th>\n",
       "      <td>Afghanistan</td>\n",
       "      <td>2003</td>\n",
       "      <td>29.388571</td>\n",
       "      <td>0.000587</td>\n",
       "      <td>ASIA</td>\n",
       "    </tr>\n",
       "    <tr>\n",
       "      <th>4</th>\n",
       "      <td>Afghanistan</td>\n",
       "      <td>2004</td>\n",
       "      <td>50.550219</td>\n",
       "      <td>0.000550</td>\n",
       "      <td>ASIA</td>\n",
       "    </tr>\n",
       "  </tbody>\n",
       "</table>\n",
       "</div>"
      ],
      "text/plain": [
       "     Recipient  Report Year  3yrAverage Money  \\\n",
       "0  Afghanistan         2000          9.515139   \n",
       "1  Afghanistan         2001          7.586477   \n",
       "2  Afghanistan         2002         11.206747   \n",
       "3  Afghanistan         2003         29.388571   \n",
       "4  Afghanistan         2004         50.550219   \n",
       "\n",
       "   Average of emigration over all OECD countries Continent  \n",
       "0                                       0.000824      ASIA  \n",
       "1                                       0.000947      ASIA  \n",
       "2                                       0.000689      ASIA  \n",
       "3                                       0.000587      ASIA  \n",
       "4                                       0.000550      ASIA  "
      ]
     },
     "execution_count": 28,
     "metadata": {},
     "output_type": "execute_result"
    }
   ],
   "source": [
    "sns.set(style=\"whitegrid\", palette=\"pastel\", color_codes=True)\n",
    "migVSmoney=pd.read_csv(\"Raw_Data/MigrationVSMoney31_continents.csv\")\n",
    "migVSmoney[\"Report Year\"]=migVSmoney[\"Report Year\"].astype(int)\n",
    "migVSmoney.head()"
   ]
  },
  {
   "cell_type": "code",
   "execution_count": 31,
   "metadata": {
    "collapsed": false
   },
   "outputs": [
    {
     "name": "stdout",
     "output_type": "stream",
     "text": [
      "     Recipient  Report Year  3yrAverage Money  \\\n",
      "0  Afghanistan         2000          9.515139   \n",
      "1  Afghanistan         2001          7.586477   \n",
      "2  Afghanistan         2002         11.206747   \n",
      "3  Afghanistan         2003         29.388571   \n",
      "4  Afghanistan         2004         50.550219   \n",
      "\n",
      "   Average of emigration over all OECD countries Continent  All  \n",
      "0                                       0.000824      ASIA  All  \n",
      "1                                       0.000947      ASIA  All  \n",
      "2                                       0.000689      ASIA  All  \n",
      "3                                       0.000587      ASIA  All  \n",
      "4                                       0.000550      ASIA  All  \n",
      "     Recipient  Report Year  3yrAverage Money  \\\n",
      "2211  Zimbabwe         2010         44.973953   \n",
      "2212  Zimbabwe         2011         50.114490   \n",
      "2213  Zimbabwe         2012         51.814066   \n",
      "2214  Zimbabwe         2013         57.452405   \n",
      "2215  Zimbabwe         2014         59.532332   \n",
      "\n",
      "      Average of emigration over all OECD countries Continent  All  \n",
      "2211                                       0.000311    AFRICA  All  \n",
      "2212                                       0.000315    AFRICA  All  \n",
      "2213                                       0.000349    AFRICA  All  \n",
      "2214                                       0.000207    AFRICA  All  \n",
      "2215                                       0.000169    AFRICA  All  \n"
     ]
    },
    {
     "name": "stderr",
     "output_type": "stream",
     "text": [
      "/Library/Frameworks/Python.framework/Versions/3.5/lib/python3.5/site-packages/ipykernel/__main__.py:4: SettingWithCopyWarning: \n",
      "A value is trying to be set on a copy of a slice from a DataFrame.\n",
      "Try using .loc[row_indexer,col_indexer] = value instead\n",
      "\n",
      "See the caveats in the documentation: http://pandas.pydata.org/pandas-docs/stable/indexing.html#indexing-view-versus-copy\n"
     ]
    }
   ],
   "source": [
    "#migVSmoney=migVSmoney[migVSmoney[\"Recipient\"]==\"Syrian Arab Republic\"]\n",
    "countrylist=[\"ASIA\", \"AFRICA\"]\n",
    "data=migVSmoney[migVSmoney[\"Continent\"].isin(countrylist)]\n",
    "data[\"All\"]=\"All\"\n",
    "print(data.head())\n",
    "print(data.tail())"
   ]
  },
  {
   "cell_type": "code",
   "execution_count": 37,
   "metadata": {
    "collapsed": false
   },
   "outputs": [
    {
     "data": {
      "image/png": "[encoded data removed]",
      "text/plain": [
       "<matplotlib.figure.Figure at 0x10a2432e8>"
      ]
     },
     "metadata": {},
     "output_type": "display_data"
    }
   ],
   "source": [
    "# Load the example tips dataset\n",
    "#migVSmoney = sns.load_dataset(\"migVSmoney\")\n",
    "\n",
    "# Draw a nested violinplot and split the violins for easier comparison\n",
    "sns.violinplot(x=\"All\", y=\"3yrAverage Money\", hue=\"Continent\", data=data, split=True,\n",
    "                palette={\"ASIA\": \"b\", \"AFRICA\": \"y\"})\n",
    "sns.despine(left=True)\n",
    "plt.show()"
   ]
  },
  {
   "cell_type": "code",
   "execution_count": null,
   "metadata": {
    "collapsed": true
   },
   "outputs": [],
   "source": []
  },
  {
   "cell_type": "code",
   "execution_count": null,
   "metadata": {
    "collapsed": true
   },
   "outputs": [],
   "source": []
  },
  {
   "cell_type": "code",
   "execution_count": null,
   "metadata": {
    "collapsed": true
   },
   "outputs": [],
   "source": []
  }
 ],
 "metadata": {
  "kernelspec": {
   "display_name": "Python 3",
   "language": "python",
   "name": "python3"
  },
  "language_info": {
   "codemirror_mode": {
    "name": "ipython",
    "version": 3
   },
   "file_extension": ".py",
   "mimetype": "text/x-python",
   "name": "python",
   "nbconvert_exporter": "python",
   "pygments_lexer": "ipython3",
   "version": "3.5.2"
  }
 },
 "nbformat": 4,
 "nbformat_minor": 1
}

{
 "cells": [
  {
   "cell_type": "code",
   "execution_count": 335,
   "metadata": {
    "collapsed": true
   },
   "outputs": [],
   "source": [
    "import pandas as pd\n",
    "import numpy as np\n",
    "import statsmodels.api as sm\n",
    "import scipy\n",
    "from scipy import stats"
   ]
  },
  {
   "cell_type": "code",
   "execution_count": 336,
   "metadata": {
    "collapsed": false
   },
   "outputs": [
    {
     "data": {
      "text/html": [
       "<div>\n",
       "<table border=\"1\" class=\"dataframe\">\n",
       "  <thead>\n",
       "    <tr style=\"text-align: right;\">\n",
       "      <th></th>\n",
       "      <th>Recipient</th>\n",
       "      <th>Report Year</th>\n",
       "      <th>3yrAverage Money</th>\n",
       "      <th>Average of emigration over all OECD countries</th>\n",
       "      <th>Continent</th>\n",
       "    </tr>\n",
       "  </thead>\n",
       "  <tbody>\n",
       "    <tr>\n",
       "      <th>0</th>\n",
       "      <td>Afghanistan</td>\n",
       "      <td>2000.0</td>\n",
       "      <td>9.515139</td>\n",
       "      <td>0.000824</td>\n",
       "      <td>ASIA</td>\n",
       "    </tr>\n",
       "    <tr>\n",
       "      <th>1</th>\n",
       "      <td>Afghanistan</td>\n",
       "      <td>2001.0</td>\n",
       "      <td>7.586477</td>\n",
       "      <td>0.000947</td>\n",
       "      <td>ASIA</td>\n",
       "    </tr>\n",
       "    <tr>\n",
       "      <th>2</th>\n",
       "      <td>Afghanistan</td>\n",
       "      <td>2002.0</td>\n",
       "      <td>11.206747</td>\n",
       "      <td>0.000689</td>\n",
       "      <td>ASIA</td>\n",
       "    </tr>\n",
       "    <tr>\n",
       "      <th>3</th>\n",
       "      <td>Afghanistan</td>\n",
       "      <td>2003.0</td>\n",
       "      <td>29.388571</td>\n",
       "      <td>0.000587</td>\n",
       "      <td>ASIA</td>\n",
       "    </tr>\n",
       "    <tr>\n",
       "      <th>4</th>\n",
       "      <td>Afghanistan</td>\n",
       "      <td>2004.0</td>\n",
       "      <td>50.550219</td>\n",
       "      <td>0.000550</td>\n",
       "      <td>ASIA</td>\n",
       "    </tr>\n",
       "  </tbody>\n",
       "</table>\n",
       "</div>"
      ],
      "text/plain": [
       "     Recipient  Report Year  3yrAverage Money  \\\n",
       "0  Afghanistan       2000.0          9.515139   \n",
       "1  Afghanistan       2001.0          7.586477   \n",
       "2  Afghanistan       2002.0         11.206747   \n",
       "3  Afghanistan       2003.0         29.388571   \n",
       "4  Afghanistan       2004.0         50.550219   \n",
       "\n",
       "   Average of emigration over all OECD countries Continent  \n",
       "0                                       0.000824      ASIA  \n",
       "1                                       0.000947      ASIA  \n",
       "2                                       0.000689      ASIA  \n",
       "3                                       0.000587      ASIA  \n",
       "4                                       0.000550      ASIA  "
      ]
     },
     "execution_count": 336,
     "metadata": {},
     "output_type": "execute_result"
    }
   ],
   "source": [
    "migVSmoney=pd.read_csv(\"Raw_Data/MigrationVSMoney31_continents.csv\")\n",
    "migVSmoney.head()"
   ]
  },
  {
   "cell_type": "code",
   "execution_count": 337,
   "metadata": {
    "collapsed": false
   },
   "outputs": [
    {
     "data": {
      "text/html": [
       "<div>\n",
       "<table border=\"1\" class=\"dataframe\">\n",
       "  <thead>\n",
       "    <tr style=\"text-align: right;\">\n",
       "      <th></th>\n",
       "      <th>Recipient</th>\n",
       "      <th>Report Year</th>\n",
       "      <th>3yrAverage Money</th>\n",
       "      <th>Average of emigration over all OECD countries</th>\n",
       "      <th>Continent</th>\n",
       "    </tr>\n",
       "  </thead>\n",
       "  <tbody>\n",
       "    <tr>\n",
       "      <th>1216</th>\n",
       "      <td>Marshall Islands</td>\n",
       "      <td>2006.0</td>\n",
       "      <td>-440.384615</td>\n",
       "      <td>0.001750</td>\n",
       "      <td>OCEANIA</td>\n",
       "    </tr>\n",
       "    <tr>\n",
       "      <th>69</th>\n",
       "      <td>Antigua and Barbuda</td>\n",
       "      <td>2005.0</td>\n",
       "      <td>-196.979144</td>\n",
       "      <td>0.005315</td>\n",
       "      <td>CARRIBEANS</td>\n",
       "    </tr>\n",
       "    <tr>\n",
       "      <th>68</th>\n",
       "      <td>Antigua and Barbuda</td>\n",
       "      <td>2004.0</td>\n",
       "      <td>-181.707754</td>\n",
       "      <td>0.005057</td>\n",
       "      <td>CARRIBEANS</td>\n",
       "    </tr>\n",
       "    <tr>\n",
       "      <th>67</th>\n",
       "      <td>Antigua and Barbuda</td>\n",
       "      <td>2003.0</td>\n",
       "      <td>-172.884546</td>\n",
       "      <td>0.004000</td>\n",
       "      <td>CARRIBEANS</td>\n",
       "    </tr>\n",
       "    <tr>\n",
       "      <th>1219</th>\n",
       "      <td>Marshall Islands</td>\n",
       "      <td>2009.0</td>\n",
       "      <td>-103.782051</td>\n",
       "      <td>0.001558</td>\n",
       "      <td>OCEANIA</td>\n",
       "    </tr>\n",
       "  </tbody>\n",
       "</table>\n",
       "</div>"
      ],
      "text/plain": [
       "                Recipient  Report Year  3yrAverage Money  \\\n",
       "1216     Marshall Islands       2006.0       -440.384615   \n",
       "69    Antigua and Barbuda       2005.0       -196.979144   \n",
       "68    Antigua and Barbuda       2004.0       -181.707754   \n",
       "67    Antigua and Barbuda       2003.0       -172.884546   \n",
       "1219     Marshall Islands       2009.0       -103.782051   \n",
       "\n",
       "      Average of emigration over all OECD countries   Continent  \n",
       "1216                                       0.001750     OCEANIA  \n",
       "69                                         0.005315  CARRIBEANS  \n",
       "68                                         0.005057  CARRIBEANS  \n",
       "67                                         0.004000  CARRIBEANS  \n",
       "1219                                       0.001558     OCEANIA  "
      ]
     },
     "execution_count": 337,
     "metadata": {},
     "output_type": "execute_result"
    }
   ],
   "source": [
    "migVSmoney=migVSmoney.sort_values(by=\"3yrAverage Money\")\n",
    "migVSmoney.head()"
   ]
  },
  {
   "cell_type": "code",
   "execution_count": 338,
   "metadata": {
    "collapsed": false
   },
   "outputs": [
    {
     "data": {
      "text/html": [
       "<div>\n",
       "<table border=\"1\" class=\"dataframe\">\n",
       "  <thead>\n",
       "    <tr style=\"text-align: right;\">\n",
       "      <th></th>\n",
       "      <th>Recipient</th>\n",
       "      <th>Report Year</th>\n",
       "      <th>3yrAverage Money</th>\n",
       "      <th>Average of emigration over all OECD countries</th>\n",
       "      <th>Continent</th>\n",
       "    </tr>\n",
       "  </thead>\n",
       "  <tbody>\n",
       "    <tr>\n",
       "      <th>1881</th>\n",
       "      <td>Syrian Arab Republic</td>\n",
       "      <td>2004.0</td>\n",
       "      <td>15.215201</td>\n",
       "      <td>0.000460</td>\n",
       "      <td>ASIA</td>\n",
       "    </tr>\n",
       "    <tr>\n",
       "      <th>1882</th>\n",
       "      <td>Syrian Arab Republic</td>\n",
       "      <td>2005.0</td>\n",
       "      <td>15.487187</td>\n",
       "      <td>0.000481</td>\n",
       "      <td>ASIA</td>\n",
       "    </tr>\n",
       "    <tr>\n",
       "      <th>1883</th>\n",
       "      <td>Syrian Arab Republic</td>\n",
       "      <td>2006.0</td>\n",
       "      <td>16.635655</td>\n",
       "      <td>0.000459</td>\n",
       "      <td>ASIA</td>\n",
       "    </tr>\n",
       "    <tr>\n",
       "      <th>1877</th>\n",
       "      <td>Syrian Arab Republic</td>\n",
       "      <td>2000.0</td>\n",
       "      <td>17.156623</td>\n",
       "      <td>0.000579</td>\n",
       "      <td>ASIA</td>\n",
       "    </tr>\n",
       "    <tr>\n",
       "      <th>1884</th>\n",
       "      <td>Syrian Arab Republic</td>\n",
       "      <td>2007.0</td>\n",
       "      <td>17.250521</td>\n",
       "      <td>0.000400</td>\n",
       "      <td>ASIA</td>\n",
       "    </tr>\n",
       "  </tbody>\n",
       "</table>\n",
       "</div>"
      ],
      "text/plain": [
       "                 Recipient  Report Year  3yrAverage Money  \\\n",
       "1881  Syrian Arab Republic       2004.0         15.215201   \n",
       "1882  Syrian Arab Republic       2005.0         15.487187   \n",
       "1883  Syrian Arab Republic       2006.0         16.635655   \n",
       "1877  Syrian Arab Republic       2000.0         17.156623   \n",
       "1884  Syrian Arab Republic       2007.0         17.250521   \n",
       "\n",
       "      Average of emigration over all OECD countries Continent  \n",
       "1881                                       0.000460      ASIA  \n",
       "1882                                       0.000481      ASIA  \n",
       "1883                                       0.000459      ASIA  \n",
       "1877                                       0.000579      ASIA  \n",
       "1884                                       0.000400      ASIA  "
      ]
     },
     "execution_count": 338,
     "metadata": {},
     "output_type": "execute_result"
    }
   ],
   "source": [
    "migVSmoney=migVSmoney[migVSmoney[\"Recipient\"]==\"Syrian Arab Republic\"]\n",
    "\n",
    "#migVSmoney=migVSmoney[migVSmoney[\"Continent\"]==\"AFRICA\"]\n",
    "migVSmoney.head()"
   ]
  },
  {
   "cell_type": "code",
   "execution_count": 339,
   "metadata": {
    "collapsed": false
   },
   "outputs": [
    {
     "data": {
      "text/html": [
       "<div>\n",
       "<table border=\"1\" class=\"dataframe\">\n",
       "  <thead>\n",
       "    <tr style=\"text-align: right;\">\n",
       "      <th></th>\n",
       "      <th>Recipient</th>\n",
       "      <th>Report Year</th>\n",
       "      <th>3yrAverage Money</th>\n",
       "      <th>3yrAverage Migration</th>\n",
       "      <th>Continent</th>\n",
       "    </tr>\n",
       "  </thead>\n",
       "  <tbody>\n",
       "    <tr>\n",
       "      <th>1881</th>\n",
       "      <td>Syrian Arab Republic</td>\n",
       "      <td>2004.0</td>\n",
       "      <td>15.215201</td>\n",
       "      <td>0.000460</td>\n",
       "      <td>ASIA</td>\n",
       "    </tr>\n",
       "    <tr>\n",
       "      <th>1882</th>\n",
       "      <td>Syrian Arab Republic</td>\n",
       "      <td>2005.0</td>\n",
       "      <td>15.487187</td>\n",
       "      <td>0.000481</td>\n",
       "      <td>ASIA</td>\n",
       "    </tr>\n",
       "    <tr>\n",
       "      <th>1883</th>\n",
       "      <td>Syrian Arab Republic</td>\n",
       "      <td>2006.0</td>\n",
       "      <td>16.635655</td>\n",
       "      <td>0.000459</td>\n",
       "      <td>ASIA</td>\n",
       "    </tr>\n",
       "    <tr>\n",
       "      <th>1877</th>\n",
       "      <td>Syrian Arab Republic</td>\n",
       "      <td>2000.0</td>\n",
       "      <td>17.156623</td>\n",
       "      <td>0.000579</td>\n",
       "      <td>ASIA</td>\n",
       "    </tr>\n",
       "    <tr>\n",
       "      <th>1884</th>\n",
       "      <td>Syrian Arab Republic</td>\n",
       "      <td>2007.0</td>\n",
       "      <td>17.250521</td>\n",
       "      <td>0.000400</td>\n",
       "      <td>ASIA</td>\n",
       "    </tr>\n",
       "    <tr>\n",
       "      <th>1885</th>\n",
       "      <td>Syrian Arab Republic</td>\n",
       "      <td>2008.0</td>\n",
       "      <td>18.664176</td>\n",
       "      <td>0.000411</td>\n",
       "      <td>ASIA</td>\n",
       "    </tr>\n",
       "    <tr>\n",
       "      <th>1880</th>\n",
       "      <td>Syrian Arab Republic</td>\n",
       "      <td>2003.0</td>\n",
       "      <td>22.879869</td>\n",
       "      <td>0.000466</td>\n",
       "      <td>ASIA</td>\n",
       "    </tr>\n",
       "    <tr>\n",
       "      <th>1886</th>\n",
       "      <td>Syrian Arab Republic</td>\n",
       "      <td>2009.0</td>\n",
       "      <td>23.793722</td>\n",
       "      <td>0.000429</td>\n",
       "      <td>ASIA</td>\n",
       "    </tr>\n",
       "    <tr>\n",
       "      <th>1878</th>\n",
       "      <td>Syrian Arab Republic</td>\n",
       "      <td>2001.0</td>\n",
       "      <td>24.041074</td>\n",
       "      <td>0.000577</td>\n",
       "      <td>ASIA</td>\n",
       "    </tr>\n",
       "    <tr>\n",
       "      <th>1879</th>\n",
       "      <td>Syrian Arab Republic</td>\n",
       "      <td>2002.0</td>\n",
       "      <td>25.510553</td>\n",
       "      <td>0.000515</td>\n",
       "      <td>ASIA</td>\n",
       "    </tr>\n",
       "    <tr>\n",
       "      <th>1887</th>\n",
       "      <td>Syrian Arab Republic</td>\n",
       "      <td>2010.0</td>\n",
       "      <td>31.940293</td>\n",
       "      <td>0.000542</td>\n",
       "      <td>ASIA</td>\n",
       "    </tr>\n",
       "    <tr>\n",
       "      <th>1888</th>\n",
       "      <td>Syrian Arab Republic</td>\n",
       "      <td>2011.0</td>\n",
       "      <td>32.888059</td>\n",
       "      <td>0.000646</td>\n",
       "      <td>ASIA</td>\n",
       "    </tr>\n",
       "    <tr>\n",
       "      <th>1889</th>\n",
       "      <td>Syrian Arab Republic</td>\n",
       "      <td>2012.0</td>\n",
       "      <td>33.025802</td>\n",
       "      <td>0.001152</td>\n",
       "      <td>ASIA</td>\n",
       "    </tr>\n",
       "    <tr>\n",
       "      <th>1890</th>\n",
       "      <td>Syrian Arab Republic</td>\n",
       "      <td>2013.0</td>\n",
       "      <td>46.548022</td>\n",
       "      <td>0.002284</td>\n",
       "      <td>ASIA</td>\n",
       "    </tr>\n",
       "    <tr>\n",
       "      <th>1891</th>\n",
       "      <td>Syrian Arab Republic</td>\n",
       "      <td>2014.0</td>\n",
       "      <td>99.792294</td>\n",
       "      <td>0.006705</td>\n",
       "      <td>ASIA</td>\n",
       "    </tr>\n",
       "    <tr>\n",
       "      <th>1892</th>\n",
       "      <td>Syrian Arab Republic</td>\n",
       "      <td>2015.0</td>\n",
       "      <td>161.989986</td>\n",
       "      <td>0.022932</td>\n",
       "      <td>ASIA</td>\n",
       "    </tr>\n",
       "  </tbody>\n",
       "</table>\n",
       "</div>"
      ],
      "text/plain": [
       "                 Recipient  Report Year  3yrAverage Money  \\\n",
       "1881  Syrian Arab Republic       2004.0         15.215201   \n",
       "1882  Syrian Arab Republic       2005.0         15.487187   \n",
       "1883  Syrian Arab Republic       2006.0         16.635655   \n",
       "1877  Syrian Arab Republic       2000.0         17.156623   \n",
       "1884  Syrian Arab Republic       2007.0         17.250521   \n",
       "1885  Syrian Arab Republic       2008.0         18.664176   \n",
       "1880  Syrian Arab Republic       2003.0         22.879869   \n",
       "1886  Syrian Arab Republic       2009.0         23.793722   \n",
       "1878  Syrian Arab Republic       2001.0         24.041074   \n",
       "1879  Syrian Arab Republic       2002.0         25.510553   \n",
       "1887  Syrian Arab Republic       2010.0         31.940293   \n",
       "1888  Syrian Arab Republic       2011.0         32.888059   \n",
       "1889  Syrian Arab Republic       2012.0         33.025802   \n",
       "1890  Syrian Arab Republic       2013.0         46.548022   \n",
       "1891  Syrian Arab Republic       2014.0         99.792294   \n",
       "1892  Syrian Arab Republic       2015.0        161.989986   \n",
       "\n",
       "      3yrAverage Migration Continent  \n",
       "1881              0.000460      ASIA  \n",
       "1882              0.000481      ASIA  \n",
       "1883              0.000459      ASIA  \n",
       "1877              0.000579      ASIA  \n",
       "1884              0.000400      ASIA  \n",
       "1885              0.000411      ASIA  \n",
       "1880              0.000466      ASIA  \n",
       "1886              0.000429      ASIA  \n",
       "1878              0.000577      ASIA  \n",
       "1879              0.000515      ASIA  \n",
       "1887              0.000542      ASIA  \n",
       "1888              0.000646      ASIA  \n",
       "1889              0.001152      ASIA  \n",
       "1890              0.002284      ASIA  \n",
       "1891              0.006705      ASIA  \n",
       "1892              0.022932      ASIA  "
      ]
     },
     "execution_count": 339,
     "metadata": {},
     "output_type": "execute_result"
    }
   ],
   "source": [
    "migVSmoney=migVSmoney.rename(columns={\"Average of emigration over all OECD countries\":\"3yrAverage Migration\"})\n",
    "migVSmoney"
   ]
  },
  {
   "cell_type": "code",
   "execution_count": 340,
   "metadata": {
    "collapsed": false
   },
   "outputs": [
    {
     "data": {
      "text/html": [
       "<div>\n",
       "<table border=\"1\" class=\"dataframe\">\n",
       "  <thead>\n",
       "    <tr style=\"text-align: right;\">\n",
       "      <th></th>\n",
       "      <th>Report Year</th>\n",
       "      <th>3yrAverage Money</th>\n",
       "      <th>3yrAverage Migration</th>\n",
       "    </tr>\n",
       "  </thead>\n",
       "  <tbody>\n",
       "    <tr>\n",
       "      <th>0.05</th>\n",
       "      <td>2000.75</td>\n",
       "      <td>15.419191</td>\n",
       "      <td>0.000408</td>\n",
       "    </tr>\n",
       "    <tr>\n",
       "      <th>0.95</th>\n",
       "      <td>2014.25</td>\n",
       "      <td>115.341717</td>\n",
       "      <td>0.010761</td>\n",
       "    </tr>\n",
       "  </tbody>\n",
       "</table>\n",
       "</div>"
      ],
      "text/plain": [
       "      Report Year  3yrAverage Money  3yrAverage Migration\n",
       "0.05      2000.75         15.419191              0.000408\n",
       "0.95      2014.25        115.341717              0.010761"
      ]
     },
     "execution_count": 340,
     "metadata": {},
     "output_type": "execute_result"
    }
   ],
   "source": [
    "migVSmoneyQ=migVSmoney.quantile([.05, .95])\n",
    "migVSmoneyQ"
   ]
  },
  {
   "cell_type": "code",
   "execution_count": 341,
   "metadata": {
    "collapsed": false
   },
   "outputs": [
    {
     "name": "stdout",
     "output_type": "stream",
     "text": [
      "0.0107614070781 0.000407996001536\n",
      "115.341717328 15.419190854\n"
     ]
    }
   ],
   "source": [
    "MigrationUPboundary=migVSmoneyQ.iloc[1][2]\n",
    "MigrationLOWboundary=migVSmoneyQ.iloc[0][2]\n",
    "MoneyUPboundary=migVSmoneyQ.iloc[1][1]\n",
    "MoneyLOWboundary=migVSmoneyQ.iloc[0][1]\n",
    "print(MigrationUPboundary,MigrationLOWboundary)\n",
    "print(MoneyUPboundary,MoneyLOWboundary)"
   ]
  },
  {
   "cell_type": "code",
   "execution_count": 342,
   "metadata": {
    "collapsed": false
   },
   "outputs": [
    {
     "data": {
      "text/plain": [
       "16"
      ]
     },
     "execution_count": 342,
     "metadata": {},
     "output_type": "execute_result"
    }
   ],
   "source": [
    "df=migVSmoney\n",
    "len(migVSmoney)"
   ]
  },
  {
   "cell_type": "code",
   "execution_count": 329,
   "metadata": {
    "collapsed": false
   },
   "outputs": [
    {
     "data": {
      "text/plain": [
       "13"
      ]
     },
     "execution_count": 329,
     "metadata": {},
     "output_type": "execute_result"
    }
   ],
   "source": [
    "migVSmoneyQ = migVSmoney[(migVSmoney[\"3yrAverage Money\"] > MoneyLOWboundary) & (migVSmoney[\"3yrAverage Money\"] < MoneyUPboundary) ]\n",
    "df = migVSmoneyQ[(migVSmoneyQ[\"3yrAverage Migration\"] > MigrationLOWboundary) & (migVSmoneyQ[\"3yrAverage Migration\"] < MigrationUPboundary)]\n",
    "len(df)"
   ]
  },
  {
   "cell_type": "code",
   "execution_count": 330,
   "metadata": {
    "collapsed": true
   },
   "outputs": [],
   "source": [
    "# define the data/predictors as the pre-set feature names  \n",
    "#df = pd.DataFrame(df, columns=[\"Average Sum of Money\"])\n",
    "\n",
    "# Put the target (housing value -- MEDV) in another DataFrame\n",
    "#target = pd.DataFrame(df, columns=[\"Average of emigration over all OECD countries\"])"
   ]
  },
  {
   "cell_type": "code",
   "execution_count": 343,
   "metadata": {
    "collapsed": false
   },
   "outputs": [
    {
     "name": "stdout",
     "output_type": "stream",
     "text": [
      "(0.5922832489013672, 1.3701896023121662e-05)\n",
      "(0.41039973497390747, 4.181640633760253e-07)\n"
     ]
    }
   ],
   "source": [
    "#Shapiro-Wilk\n",
    "x = df['3yrAverage Money']\n",
    "y = df[\"3yrAverage Migration\"]\n",
    "\n",
    "shapiro_results = scipy.stats.shapiro(x)\n",
    "\n",
    "print(shapiro_results)\n",
    "shapiro_results = scipy.stats.shapiro(y)\n",
    "\n",
    "print(shapiro_results)"
   ]
  },
  {
   "cell_type": "code",
   "execution_count": 344,
   "metadata": {
    "collapsed": false
   },
   "outputs": [
    {
     "name": "stdout",
     "output_type": "stream",
     "text": [
      "LeveneResult(statistic=4.4808326900311792, pvalue=0.042681325384250519)\n"
     ]
    }
   ],
   "source": [
    "x = df['3yrAverage Money']\n",
    "y = df[\"3yrAverage Migration\"]\n",
    "\n",
    "levene_results = scipy.stats.levene(x,y)\n",
    "\n",
    "print(levene_results)\n"
   ]
  },
  {
   "cell_type": "code",
   "execution_count": 345,
   "metadata": {
    "collapsed": false
   },
   "outputs": [
    {
     "name": "stderr",
     "output_type": "stream",
     "text": [
      "/Library/Frameworks/Python.framework/Versions/3.5/lib/python3.5/site-packages/scipy/stats/stats.py:1334: UserWarning: kurtosistest only valid for n>=20 ... continuing anyway, n=16\n",
      "  \"anyway, n=%i\" % int(n))\n"
     ]
    },
    {
     "data": {
      "text/html": [
       "<table class=\"simpletable\">\n",
       "<caption>OLS Regression Results</caption>\n",
       "<tr>\n",
       "  <th>Dep. Variable:</th>    <td>3yrAverage Migration</td> <th>  R-squared:         </th> <td>   0.918</td>\n",
       "</tr>\n",
       "<tr>\n",
       "  <th>Model:</th>                     <td>OLS</td>         <th>  Adj. R-squared:    </th> <td>   0.912</td>\n",
       "</tr>\n",
       "<tr>\n",
       "  <th>Method:</th>               <td>Least Squares</td>    <th>  F-statistic:       </th> <td>   156.8</td>\n",
       "</tr>\n",
       "<tr>\n",
       "  <th>Date:</th>               <td>Mon, 13 Nov 2017</td>   <th>  Prob (F-statistic):</th> <td>5.40e-09</td>\n",
       "</tr>\n",
       "<tr>\n",
       "  <th>Time:</th>                   <td>08:52:28</td>       <th>  Log-Likelihood:    </th> <td>  80.539</td>\n",
       "</tr>\n",
       "<tr>\n",
       "  <th>No. Observations:</th>        <td>    16</td>        <th>  AIC:               </th> <td>  -157.1</td>\n",
       "</tr>\n",
       "<tr>\n",
       "  <th>Df Residuals:</th>            <td>    14</td>        <th>  BIC:               </th> <td>  -155.5</td>\n",
       "</tr>\n",
       "<tr>\n",
       "  <th>Df Model:</th>                <td>     1</td>        <th>                     </th>     <td> </td>   \n",
       "</tr>\n",
       "<tr>\n",
       "  <th>Covariance Type:</th>        <td>nonrobust</td>      <th>                     </th>     <td> </td>   \n",
       "</tr>\n",
       "</table>\n",
       "<table class=\"simpletable\">\n",
       "<tr>\n",
       "          <td></td>            <th>coef</th>     <th>std err</th>      <th>t</th>      <th>P>|t|</th>  <th>[0.025</th>    <th>0.975]</th>  \n",
       "</tr>\n",
       "<tr>\n",
       "  <th>const</th>            <td>   -0.0028</td> <td>    0.001</td> <td>   -4.740</td> <td> 0.000</td> <td>   -0.004</td> <td>   -0.002</td>\n",
       "</tr>\n",
       "<tr>\n",
       "  <th>3yrAverage Money</th> <td>    0.0001</td> <td> 1.11e-05</td> <td>   12.523</td> <td> 0.000</td> <td>    0.000</td> <td>    0.000</td>\n",
       "</tr>\n",
       "</table>\n",
       "<table class=\"simpletable\">\n",
       "<tr>\n",
       "  <th>Omnibus:</th>       <td> 7.563</td> <th>  Durbin-Watson:     </th> <td>   1.712</td>\n",
       "</tr>\n",
       "<tr>\n",
       "  <th>Prob(Omnibus):</th> <td> 0.023</td> <th>  Jarque-Bera (JB):  </th> <td>   4.517</td>\n",
       "</tr>\n",
       "<tr>\n",
       "  <th>Skew:</th>          <td>-0.874</td> <th>  Prob(JB):          </th> <td>   0.105</td>\n",
       "</tr>\n",
       "<tr>\n",
       "  <th>Kurtosis:</th>      <td> 4.929</td> <th>  Cond. No.          </th> <td>    75.4</td>\n",
       "</tr>\n",
       "</table>"
      ],
      "text/plain": [
       "<class 'statsmodels.iolib.summary.Summary'>\n",
       "\"\"\"\n",
       "                             OLS Regression Results                             \n",
       "================================================================================\n",
       "Dep. Variable:     3yrAverage Migration   R-squared:                       0.918\n",
       "Model:                              OLS   Adj. R-squared:                  0.912\n",
       "Method:                   Least Squares   F-statistic:                     156.8\n",
       "Date:                  Mon, 13 Nov 2017   Prob (F-statistic):           5.40e-09\n",
       "Time:                          08:52:28   Log-Likelihood:                 80.539\n",
       "No. Observations:                    16   AIC:                            -157.1\n",
       "Df Residuals:                        14   BIC:                            -155.5\n",
       "Df Model:                             1                                         \n",
       "Covariance Type:              nonrobust                                         \n",
       "====================================================================================\n",
       "                       coef    std err          t      P>|t|      [0.025      0.975]\n",
       "------------------------------------------------------------------------------------\n",
       "const               -0.0028      0.001     -4.740      0.000      -0.004      -0.002\n",
       "3yrAverage Money     0.0001   1.11e-05     12.523      0.000       0.000       0.000\n",
       "==============================================================================\n",
       "Omnibus:                        7.563   Durbin-Watson:                   1.712\n",
       "Prob(Omnibus):                  0.023   Jarque-Bera (JB):                4.517\n",
       "Skew:                          -0.874   Prob(JB):                        0.105\n",
       "Kurtosis:                       4.929   Cond. No.                         75.4\n",
       "==============================================================================\n",
       "\n",
       "Warnings:\n",
       "[1] Standard Errors assume that the covariance matrix of the errors is correctly specified.\n",
       "\"\"\""
      ]
     },
     "execution_count": 345,
     "metadata": {},
     "output_type": "execute_result"
    }
   ],
   "source": [
    "import statsmodels.api as sm\n",
    "\n",
    "X = df['3yrAverage Money']\n",
    "y = df[\"3yrAverage Migration\"]\n",
    "\n",
    "X = sm.add_constant(X) ## let's add an intercept (beta_0) to our model\n",
    "\n",
    "# Note the difference in argument order\n",
    "model = sm.OLS(y, X).fit()\n",
    "predictions = model.predict(X) # make the predictions by the model\n",
    "\n",
    "# Print out the statistics\n",
    "model.summary()"
   ]
  },
  {
   "cell_type": "code",
   "execution_count": 346,
   "metadata": {
    "collapsed": false
   },
   "outputs": [
    {
     "data": {
      "image/png": "[encoded data removed]",
      "text/plain": [
       "<matplotlib.figure.Figure at 0x10b59e7b8>"
      ]
     },
     "metadata": {},
     "output_type": "display_data"
    }
   ],
   "source": [
    "import seaborn as sns\n",
    "import matplotlib.pyplot as plt\n",
    "\n",
    "sns.regplot(x='3yrAverage Money', y=\"3yrAverage Migration\", data=df)\n",
    "plt.show()"
   ]
  },
  {
   "cell_type": "code",
   "execution_count": null,
   "metadata": {
    "collapsed": true
   },
   "outputs": [],
   "source": []
  },
  {
   "cell_type": "code",
   "execution_count": null,
   "metadata": {
    "collapsed": true
   },
   "outputs": [],
   "source": []
  },
  {
   "cell_type": "code",
   "execution_count": null,
   "metadata": {
    "collapsed": true
   },
   "outputs": [],
   "source": []
  }
 ],
 "metadata": {
  "kernelspec": {
   "display_name": "Python 3",
   "language": "python",
   "name": "python3"
  },
  "language_info": {
   "codemirror_mode": {
    "name": "ipython",
    "version": 3
   },
   "file_extension": ".py",
   "mimetype": "text/x-python",
   "name": "python",
   "nbconvert_exporter": "python",
   "pygments_lexer": "ipython3",
   "version": "3.5.2"
  }
 },
 "nbformat": 4,
 "nbformat_minor": 1
}
